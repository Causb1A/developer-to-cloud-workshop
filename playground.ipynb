{
 "cells": [
  {
   "cell_type": "code",
   "execution_count": 26,
   "metadata": {},
   "outputs": [],
   "source": [
    "import pandas as pd\n",
    "import datetime\n",
    "import json\n",
    "import boto3\n",
    "from datetime import date\n",
    "\n",
    "\n",
    "# Dynamo db client\n",
    "boto_client = boto3.resource(\"dynamodb\")\n",
    "dynamo_db_table = boto_client.Table(\"interconnector-data\")"
   ]
  },
  {
   "cell_type": "code",
   "execution_count": 37,
   "metadata": {},
   "outputs": [],
   "source": [
    "def hour_rounder(t):\n",
    "    return (t.replace(second=0, microsecond=0, minute=0, hour=t.hour)\n",
    "               +datetime.timedelta(hours=t.minute//30))"
   ]
  },
  {
   "cell_type": "code",
   "execution_count": 50,
   "metadata": {},
   "outputs": [],
   "source": [
    "def get_date_keys():\n",
    "    \"\"\"Gets the date range of data 2 minutes before current\"\"\"\n",
    "    date_keys = []\n",
    "    end_range = hour_rounder(datetime.datetime.today())\n",
    "    start_range = end_range - datetime.timedelta(hours=12)\n",
    "    while start_range <= datetime.datetime.today():\n",
    "        start_range += datetime.timedelta(minutes = 15)\n",
    "        date_keys.append(int(start_range.strftime(\"%Y%m%d%H%M%S\")))\n",
    "\n",
    "    return date_keys"
   ]
  },
  {
   "cell_type": "code",
   "execution_count": 52,
   "metadata": {},
   "outputs": [],
   "source": [
    "def get_todays_data_from_db():\n",
    "    \"\"\"\n",
    "    Returns the data for today from the database\n",
    "    \"\"\"\n",
    "    todays_date = int(datetime.datetime.today().strftime(\"%Y%m%d\"))\n",
    "    data = boto_client.batch_get_item(RequestItems = {\"interconnector-data\": {'Keys': [{'datetime': dt, 'date': todays_date} for dt in get_date_keys()]}})\n",
    "        \n",
    "    return data"
   ]
  },
  {
   "cell_type": "code",
   "execution_count": 53,
   "metadata": {},
   "outputs": [
    {
     "data": {
      "text/plain": [
       "{'Responses': {'interconnector-data': [{'France': Decimal('1876'),\n",
       "    'datetime': Decimal('20221014144500'),\n",
       "    'date': Decimal('20221014'),\n",
       "    'Belgium': Decimal('705'),\n",
       "    'Netherlands': Decimal('345'),\n",
       "    'Norway': Decimal('-6')},\n",
       "   {'France': Decimal('2742'),\n",
       "    'datetime': Decimal('20221014174500'),\n",
       "    'date': Decimal('20221014'),\n",
       "    'Belgium': Decimal('125'),\n",
       "    'Netherlands': Decimal('-425'),\n",
       "    'Norway': Decimal('-1233')},\n",
       "   {'France': Decimal('1783'),\n",
       "    'datetime': Decimal('20221014124500'),\n",
       "    'date': Decimal('20221014'),\n",
       "    'Belgium': Decimal('604'),\n",
       "    'Netherlands': Decimal('514'),\n",
       "    'Norway': Decimal('108')},\n",
       "   {'France': Decimal('1783'),\n",
       "    'datetime': Decimal('20221014120000'),\n",
       "    'date': Decimal('20221014'),\n",
       "    'Belgium': Decimal('604'),\n",
       "    'Netherlands': Decimal('449'),\n",
       "    'Norway': Decimal('108')},\n",
       "   {'France': Decimal('1737'),\n",
       "    'datetime': Decimal('20221014133000'),\n",
       "    'date': Decimal('20221014'),\n",
       "    'Belgium': Decimal('749'),\n",
       "    'Netherlands': Decimal('646'),\n",
       "    'Norway': Decimal('330')},\n",
       "   {'France': Decimal('1862'),\n",
       "    'datetime': Decimal('20221014190000'),\n",
       "    'date': Decimal('20221014'),\n",
       "    'Belgium': Decimal('-246'),\n",
       "    'Netherlands': Decimal('-744'),\n",
       "    'Norway': Decimal('-970')},\n",
       "   {'France': Decimal('1783'),\n",
       "    'datetime': Decimal('20221014123000'),\n",
       "    'date': Decimal('20221014'),\n",
       "    'Belgium': Decimal('604'),\n",
       "    'Netherlands': Decimal('448'),\n",
       "    'Norway': Decimal('108')},\n",
       "   {'France': Decimal('2742'),\n",
       "    'datetime': Decimal('20221014173000'),\n",
       "    'date': Decimal('20221014'),\n",
       "    'Belgium': Decimal('125'),\n",
       "    'Netherlands': Decimal('-425'),\n",
       "    'Norway': Decimal('-1233')},\n",
       "   {'France': Decimal('1737'),\n",
       "    'datetime': Decimal('20221014130000'),\n",
       "    'date': Decimal('20221014'),\n",
       "    'Belgium': Decimal('749'),\n",
       "    'Netherlands': Decimal('647'),\n",
       "    'Norway': Decimal('330')},\n",
       "   {'France': Decimal('1799'),\n",
       "    'datetime': Decimal('20221014151500'),\n",
       "    'date': Decimal('20221014'),\n",
       "    'Belgium': Decimal('575'),\n",
       "    'Netherlands': Decimal('-462'),\n",
       "    'Norway': Decimal('-452')},\n",
       "   {'France': Decimal('1675'),\n",
       "    'datetime': Decimal('20221014160000'),\n",
       "    'date': Decimal('20221014'),\n",
       "    'Belgium': Decimal('521'),\n",
       "    'Netherlands': Decimal('-404'),\n",
       "    'Norway': Decimal('-897')},\n",
       "   {'France': Decimal('1799'),\n",
       "    'datetime': Decimal('20221014154500'),\n",
       "    'date': Decimal('20221014'),\n",
       "    'Belgium': Decimal('575'),\n",
       "    'Netherlands': Decimal('-442'),\n",
       "    'Norway': Decimal('-452')},\n",
       "   {'France': Decimal('1797'),\n",
       "    'datetime': Decimal('20221014114500'),\n",
       "    'date': Decimal('20221014'),\n",
       "    'Belgium': Decimal('782'),\n",
       "    'Netherlands': Decimal('253'),\n",
       "    'Norway': Decimal('-64')},\n",
       "   {'France': Decimal('1737'),\n",
       "    'datetime': Decimal('20221014134500'),\n",
       "    'date': Decimal('20221014'),\n",
       "    'Belgium': Decimal('749'),\n",
       "    'Netherlands': Decimal('645'),\n",
       "    'Norway': Decimal('330')},\n",
       "   {'France': Decimal('1675'),\n",
       "    'datetime': Decimal('20221014164500'),\n",
       "    'date': Decimal('20221014'),\n",
       "    'Belgium': Decimal('521'),\n",
       "    'Netherlands': Decimal('-404'),\n",
       "    'Norway': Decimal('-897')},\n",
       "   {'France': Decimal('1876'),\n",
       "    'datetime': Decimal('20221014140000'),\n",
       "    'date': Decimal('20221014'),\n",
       "    'Belgium': Decimal('705'),\n",
       "    'Netherlands': Decimal('541'),\n",
       "    'Norway': Decimal('-6')},\n",
       "   {'France': Decimal('1797'),\n",
       "    'datetime': Decimal('20221014113000'),\n",
       "    'date': Decimal('20221014'),\n",
       "    'Belgium': Decimal('782'),\n",
       "    'Netherlands': Decimal('154'),\n",
       "    'Norway': Decimal('-64')},\n",
       "   {'France': Decimal('1797'),\n",
       "    'datetime': Decimal('20221014111500'),\n",
       "    'date': Decimal('20221014'),\n",
       "    'Belgium': Decimal('782'),\n",
       "    'Netherlands': Decimal('154'),\n",
       "    'Norway': Decimal('-64')},\n",
       "   {'France': Decimal('1862'),\n",
       "    'datetime': Decimal('20221014184500'),\n",
       "    'date': Decimal('20221014'),\n",
       "    'Belgium': Decimal('7'),\n",
       "    'Netherlands': Decimal('-628'),\n",
       "    'Norway': Decimal('-970')},\n",
       "   {'France': Decimal('1675'),\n",
       "    'datetime': Decimal('20221014161500'),\n",
       "    'date': Decimal('20221014'),\n",
       "    'Belgium': Decimal('521'),\n",
       "    'Netherlands': Decimal('-404'),\n",
       "    'Norway': Decimal('-897')},\n",
       "   {'France': Decimal('2742'),\n",
       "    'datetime': Decimal('20221014170000'),\n",
       "    'date': Decimal('20221014'),\n",
       "    'Belgium': Decimal('125'),\n",
       "    'Netherlands': Decimal('-424'),\n",
       "    'Norway': Decimal('-1233')},\n",
       "   {'France': Decimal('1876'),\n",
       "    'datetime': Decimal('20221014141500'),\n",
       "    'date': Decimal('20221014'),\n",
       "    'Belgium': Decimal('705'),\n",
       "    'Netherlands': Decimal('542'),\n",
       "    'Norway': Decimal('-6')},\n",
       "   {'France': Decimal('1783'),\n",
       "    'datetime': Decimal('20221014121500'),\n",
       "    'date': Decimal('20221014'),\n",
       "    'Belgium': Decimal('604'),\n",
       "    'Netherlands': Decimal('449'),\n",
       "    'Norway': Decimal('108')},\n",
       "   {'France': Decimal('1675'),\n",
       "    'datetime': Decimal('20221014163000'),\n",
       "    'date': Decimal('20221014'),\n",
       "    'Belgium': Decimal('521'),\n",
       "    'Netherlands': Decimal('-404'),\n",
       "    'Norway': Decimal('-897')},\n",
       "   {'France': Decimal('2742'),\n",
       "    'datetime': Decimal('20221014171500'),\n",
       "    'date': Decimal('20221014'),\n",
       "    'Belgium': Decimal('125'),\n",
       "    'Netherlands': Decimal('-423'),\n",
       "    'Norway': Decimal('-1233')},\n",
       "   {'France': Decimal('1799'),\n",
       "    'datetime': Decimal('20221014150000'),\n",
       "    'date': Decimal('20221014'),\n",
       "    'Belgium': Decimal('575'),\n",
       "    'Netherlands': Decimal('-461'),\n",
       "    'Norway': Decimal('-452')},\n",
       "   {'France': Decimal('1862'),\n",
       "    'datetime': Decimal('20221014183000'),\n",
       "    'date': Decimal('20221014'),\n",
       "    'Belgium': Decimal('7'),\n",
       "    'Netherlands': Decimal('-625'),\n",
       "    'Norway': Decimal('-970')},\n",
       "   {'France': Decimal('1876'),\n",
       "    'datetime': Decimal('20221014143000'),\n",
       "    'date': Decimal('20221014'),\n",
       "    'Belgium': Decimal('705'),\n",
       "    'Netherlands': Decimal('542'),\n",
       "    'Norway': Decimal('-6')},\n",
       "   {'France': Decimal('1799'),\n",
       "    'datetime': Decimal('20221014153000'),\n",
       "    'date': Decimal('20221014'),\n",
       "    'Belgium': Decimal('575'),\n",
       "    'Netherlands': Decimal('-461'),\n",
       "    'Norway': Decimal('-452')},\n",
       "   {'France': Decimal('1862'),\n",
       "    'datetime': Decimal('20221014191500'),\n",
       "    'date': Decimal('20221014'),\n",
       "    'Belgium': Decimal('-246'),\n",
       "    'Netherlands': Decimal('-743'),\n",
       "    'Norway': Decimal('-970')},\n",
       "   {'France': Decimal('1862'),\n",
       "    'datetime': Decimal('20221014180000'),\n",
       "    'date': Decimal('20221014'),\n",
       "    'Belgium': Decimal('7'),\n",
       "    'Netherlands': Decimal('-626'),\n",
       "    'Norway': Decimal('-970')},\n",
       "   {'France': Decimal('1862'),\n",
       "    'datetime': Decimal('20221014193000'),\n",
       "    'date': Decimal('20221014'),\n",
       "    'Belgium': Decimal('-246'),\n",
       "    'Netherlands': Decimal('-744'),\n",
       "    'Norway': Decimal('-970')},\n",
       "   {'France': Decimal('1737'),\n",
       "    'datetime': Decimal('20221014131500'),\n",
       "    'date': Decimal('20221014'),\n",
       "    'Belgium': Decimal('749'),\n",
       "    'Netherlands': Decimal('647'),\n",
       "    'Norway': Decimal('330')},\n",
       "   {'France': Decimal('1862'),\n",
       "    'datetime': Decimal('20221014181500'),\n",
       "    'date': Decimal('20221014'),\n",
       "    'Belgium': Decimal('7'),\n",
       "    'Netherlands': Decimal('-626'),\n",
       "    'Norway': Decimal('-970')}]},\n",
       " 'UnprocessedKeys': {},\n",
       " 'ResponseMetadata': {'RequestId': '515NV0S31G20O0GQ0R3AQ8OH13VV4KQNSO5AEMVJF66Q9ASUAAJG',\n",
       "  'HTTPStatusCode': 200,\n",
       "  'HTTPHeaders': {'server': 'Server',\n",
       "   'date': 'Fri, 14 Oct 2022 21:52:45 GMT',\n",
       "   'content-type': 'application/x-amz-json-1.0',\n",
       "   'content-length': '5227',\n",
       "   'connection': 'keep-alive',\n",
       "   'x-amzn-requestid': '515NV0S31G20O0GQ0R3AQ8OH13VV4KQNSO5AEMVJF66Q9ASUAAJG',\n",
       "   'x-amz-crc32': '1238436012'},\n",
       "  'RetryAttempts': 0}}"
      ]
     },
     "execution_count": 53,
     "metadata": {},
     "output_type": "execute_result"
    }
   ],
   "source": [
    "get_todays_data_from_db()"
   ]
  },
  {
   "cell_type": "code",
   "execution_count": null,
   "metadata": {},
   "outputs": [],
   "source": [
    "\n",
    "def lambda_handler(event, context):\n",
    "    \n",
    "    return {\n",
    "        'statusCode': 200,\n",
    "        'body': get_todays_data_from_db()\n",
    "    }\n",
    "    "
   ]
  },
  {
   "cell_type": "code",
   "execution_count": null,
   "metadata": {},
   "outputs": [],
   "source": [
    "# import plotly.express as px\n",
    "import requests\n",
    "import pandas as pd\n",
    "from datetime import datetime"
   ]
  },
  {
   "cell_type": "code",
   "execution_count": null,
   "metadata": {},
   "outputs": [],
   "source": [
    "response = requests.get(\"https://p60frowj71.execute-api.eu-west-1.amazonaws.com/prd/interconnector\")"
   ]
  },
  {
   "cell_type": "code",
   "execution_count": null,
   "metadata": {},
   "outputs": [],
   "source": [
    "df = pd.DataFrame.from_dict(response.json()['body']['Responses']['interconnector-data'])\n"
   ]
  },
  {
   "cell_type": "code",
   "execution_count": null,
   "metadata": {},
   "outputs": [],
   "source": [
    "df['datetime'] = df['datetime'].apply(lambda x: datetime.strptime(str(x), \"%Y%m%d%H%M%S\"))\n",
    "df = df.sort_values(by=['datetime'])"
   ]
  },
  {
   "cell_type": "code",
   "execution_count": null,
   "metadata": {},
   "outputs": [],
   "source": [
    "fig = px.line(df, x=\"datetime\", y=df.columns, title='Life expectancy in Canada')"
   ]
  },
  {
   "cell_type": "code",
   "execution_count": null,
   "metadata": {},
   "outputs": [],
   "source": [
    "fig.show()"
   ]
  },
  {
   "cell_type": "code",
   "execution_count": 5,
   "metadata": {},
   "outputs": [
    {
     "data": {
      "application/vnd.plotly.v1+json": {
       "config": {
        "plotlyServerURL": "https://plot.ly"
       },
       "data": [
        {
         "hovertemplate": "x=%{x}<br>y=%{y}<extra></extra>",
         "legendgroup": "",
         "marker": {
          "color": "#636efa",
          "symbol": "circle"
         },
         "mode": "markers",
         "name": "",
         "orientation": "v",
         "showlegend": false,
         "type": "scatter",
         "x": [
          0,
          1,
          2,
          3,
          4
         ],
         "xaxis": "x",
         "y": [
          0,
          1,
          4,
          9,
          16
         ],
         "yaxis": "y"
        }
       ],
       "layout": {
        "legend": {
         "tracegroupgap": 0
        },
        "margin": {
         "t": 60
        },
        "template": {
         "data": {
          "bar": [
           {
            "error_x": {
             "color": "#2a3f5f"
            },
            "error_y": {
             "color": "#2a3f5f"
            },
            "marker": {
             "line": {
              "color": "#E5ECF6",
              "width": 0.5
             },
             "pattern": {
              "fillmode": "overlay",
              "size": 10,
              "solidity": 0.2
             }
            },
            "type": "bar"
           }
          ],
          "barpolar": [
           {
            "marker": {
             "line": {
              "color": "#E5ECF6",
              "width": 0.5
             },
             "pattern": {
              "fillmode": "overlay",
              "size": 10,
              "solidity": 0.2
             }
            },
            "type": "barpolar"
           }
          ],
          "carpet": [
           {
            "aaxis": {
             "endlinecolor": "#2a3f5f",
             "gridcolor": "white",
             "linecolor": "white",
             "minorgridcolor": "white",
             "startlinecolor": "#2a3f5f"
            },
            "baxis": {
             "endlinecolor": "#2a3f5f",
             "gridcolor": "white",
             "linecolor": "white",
             "minorgridcolor": "white",
             "startlinecolor": "#2a3f5f"
            },
            "type": "carpet"
           }
          ],
          "choropleth": [
           {
            "colorbar": {
             "outlinewidth": 0,
             "ticks": ""
            },
            "type": "choropleth"
           }
          ],
          "contour": [
           {
            "colorbar": {
             "outlinewidth": 0,
             "ticks": ""
            },
            "colorscale": [
             [
              0,
              "#0d0887"
             ],
             [
              0.1111111111111111,
              "#46039f"
             ],
             [
              0.2222222222222222,
              "#7201a8"
             ],
             [
              0.3333333333333333,
              "#9c179e"
             ],
             [
              0.4444444444444444,
              "#bd3786"
             ],
             [
              0.5555555555555556,
              "#d8576b"
             ],
             [
              0.6666666666666666,
              "#ed7953"
             ],
             [
              0.7777777777777778,
              "#fb9f3a"
             ],
             [
              0.8888888888888888,
              "#fdca26"
             ],
             [
              1,
              "#f0f921"
             ]
            ],
            "type": "contour"
           }
          ],
          "contourcarpet": [
           {
            "colorbar": {
             "outlinewidth": 0,
             "ticks": ""
            },
            "type": "contourcarpet"
           }
          ],
          "heatmap": [
           {
            "colorbar": {
             "outlinewidth": 0,
             "ticks": ""
            },
            "colorscale": [
             [
              0,
              "#0d0887"
             ],
             [
              0.1111111111111111,
              "#46039f"
             ],
             [
              0.2222222222222222,
              "#7201a8"
             ],
             [
              0.3333333333333333,
              "#9c179e"
             ],
             [
              0.4444444444444444,
              "#bd3786"
             ],
             [
              0.5555555555555556,
              "#d8576b"
             ],
             [
              0.6666666666666666,
              "#ed7953"
             ],
             [
              0.7777777777777778,
              "#fb9f3a"
             ],
             [
              0.8888888888888888,
              "#fdca26"
             ],
             [
              1,
              "#f0f921"
             ]
            ],
            "type": "heatmap"
           }
          ],
          "heatmapgl": [
           {
            "colorbar": {
             "outlinewidth": 0,
             "ticks": ""
            },
            "colorscale": [
             [
              0,
              "#0d0887"
             ],
             [
              0.1111111111111111,
              "#46039f"
             ],
             [
              0.2222222222222222,
              "#7201a8"
             ],
             [
              0.3333333333333333,
              "#9c179e"
             ],
             [
              0.4444444444444444,
              "#bd3786"
             ],
             [
              0.5555555555555556,
              "#d8576b"
             ],
             [
              0.6666666666666666,
              "#ed7953"
             ],
             [
              0.7777777777777778,
              "#fb9f3a"
             ],
             [
              0.8888888888888888,
              "#fdca26"
             ],
             [
              1,
              "#f0f921"
             ]
            ],
            "type": "heatmapgl"
           }
          ],
          "histogram": [
           {
            "marker": {
             "pattern": {
              "fillmode": "overlay",
              "size": 10,
              "solidity": 0.2
             }
            },
            "type": "histogram"
           }
          ],
          "histogram2d": [
           {
            "colorbar": {
             "outlinewidth": 0,
             "ticks": ""
            },
            "colorscale": [
             [
              0,
              "#0d0887"
             ],
             [
              0.1111111111111111,
              "#46039f"
             ],
             [
              0.2222222222222222,
              "#7201a8"
             ],
             [
              0.3333333333333333,
              "#9c179e"
             ],
             [
              0.4444444444444444,
              "#bd3786"
             ],
             [
              0.5555555555555556,
              "#d8576b"
             ],
             [
              0.6666666666666666,
              "#ed7953"
             ],
             [
              0.7777777777777778,
              "#fb9f3a"
             ],
             [
              0.8888888888888888,
              "#fdca26"
             ],
             [
              1,
              "#f0f921"
             ]
            ],
            "type": "histogram2d"
           }
          ],
          "histogram2dcontour": [
           {
            "colorbar": {
             "outlinewidth": 0,
             "ticks": ""
            },
            "colorscale": [
             [
              0,
              "#0d0887"
             ],
             [
              0.1111111111111111,
              "#46039f"
             ],
             [
              0.2222222222222222,
              "#7201a8"
             ],
             [
              0.3333333333333333,
              "#9c179e"
             ],
             [
              0.4444444444444444,
              "#bd3786"
             ],
             [
              0.5555555555555556,
              "#d8576b"
             ],
             [
              0.6666666666666666,
              "#ed7953"
             ],
             [
              0.7777777777777778,
              "#fb9f3a"
             ],
             [
              0.8888888888888888,
              "#fdca26"
             ],
             [
              1,
              "#f0f921"
             ]
            ],
            "type": "histogram2dcontour"
           }
          ],
          "mesh3d": [
           {
            "colorbar": {
             "outlinewidth": 0,
             "ticks": ""
            },
            "type": "mesh3d"
           }
          ],
          "parcoords": [
           {
            "line": {
             "colorbar": {
              "outlinewidth": 0,
              "ticks": ""
             }
            },
            "type": "parcoords"
           }
          ],
          "pie": [
           {
            "automargin": true,
            "type": "pie"
           }
          ],
          "scatter": [
           {
            "fillpattern": {
             "fillmode": "overlay",
             "size": 10,
             "solidity": 0.2
            },
            "type": "scatter"
           }
          ],
          "scatter3d": [
           {
            "line": {
             "colorbar": {
              "outlinewidth": 0,
              "ticks": ""
             }
            },
            "marker": {
             "colorbar": {
              "outlinewidth": 0,
              "ticks": ""
             }
            },
            "type": "scatter3d"
           }
          ],
          "scattercarpet": [
           {
            "marker": {
             "colorbar": {
              "outlinewidth": 0,
              "ticks": ""
             }
            },
            "type": "scattercarpet"
           }
          ],
          "scattergeo": [
           {
            "marker": {
             "colorbar": {
              "outlinewidth": 0,
              "ticks": ""
             }
            },
            "type": "scattergeo"
           }
          ],
          "scattergl": [
           {
            "marker": {
             "colorbar": {
              "outlinewidth": 0,
              "ticks": ""
             }
            },
            "type": "scattergl"
           }
          ],
          "scattermapbox": [
           {
            "marker": {
             "colorbar": {
              "outlinewidth": 0,
              "ticks": ""
             }
            },
            "type": "scattermapbox"
           }
          ],
          "scatterpolar": [
           {
            "marker": {
             "colorbar": {
              "outlinewidth": 0,
              "ticks": ""
             }
            },
            "type": "scatterpolar"
           }
          ],
          "scatterpolargl": [
           {
            "marker": {
             "colorbar": {
              "outlinewidth": 0,
              "ticks": ""
             }
            },
            "type": "scatterpolargl"
           }
          ],
          "scatterternary": [
           {
            "marker": {
             "colorbar": {
              "outlinewidth": 0,
              "ticks": ""
             }
            },
            "type": "scatterternary"
           }
          ],
          "surface": [
           {
            "colorbar": {
             "outlinewidth": 0,
             "ticks": ""
            },
            "colorscale": [
             [
              0,
              "#0d0887"
             ],
             [
              0.1111111111111111,
              "#46039f"
             ],
             [
              0.2222222222222222,
              "#7201a8"
             ],
             [
              0.3333333333333333,
              "#9c179e"
             ],
             [
              0.4444444444444444,
              "#bd3786"
             ],
             [
              0.5555555555555556,
              "#d8576b"
             ],
             [
              0.6666666666666666,
              "#ed7953"
             ],
             [
              0.7777777777777778,
              "#fb9f3a"
             ],
             [
              0.8888888888888888,
              "#fdca26"
             ],
             [
              1,
              "#f0f921"
             ]
            ],
            "type": "surface"
           }
          ],
          "table": [
           {
            "cells": {
             "fill": {
              "color": "#EBF0F8"
             },
             "line": {
              "color": "white"
             }
            },
            "header": {
             "fill": {
              "color": "#C8D4E3"
             },
             "line": {
              "color": "white"
             }
            },
            "type": "table"
           }
          ]
         },
         "layout": {
          "annotationdefaults": {
           "arrowcolor": "#2a3f5f",
           "arrowhead": 0,
           "arrowwidth": 1
          },
          "autotypenumbers": "strict",
          "coloraxis": {
           "colorbar": {
            "outlinewidth": 0,
            "ticks": ""
           }
          },
          "colorscale": {
           "diverging": [
            [
             0,
             "#8e0152"
            ],
            [
             0.1,
             "#c51b7d"
            ],
            [
             0.2,
             "#de77ae"
            ],
            [
             0.3,
             "#f1b6da"
            ],
            [
             0.4,
             "#fde0ef"
            ],
            [
             0.5,
             "#f7f7f7"
            ],
            [
             0.6,
             "#e6f5d0"
            ],
            [
             0.7,
             "#b8e186"
            ],
            [
             0.8,
             "#7fbc41"
            ],
            [
             0.9,
             "#4d9221"
            ],
            [
             1,
             "#276419"
            ]
           ],
           "sequential": [
            [
             0,
             "#0d0887"
            ],
            [
             0.1111111111111111,
             "#46039f"
            ],
            [
             0.2222222222222222,
             "#7201a8"
            ],
            [
             0.3333333333333333,
             "#9c179e"
            ],
            [
             0.4444444444444444,
             "#bd3786"
            ],
            [
             0.5555555555555556,
             "#d8576b"
            ],
            [
             0.6666666666666666,
             "#ed7953"
            ],
            [
             0.7777777777777778,
             "#fb9f3a"
            ],
            [
             0.8888888888888888,
             "#fdca26"
            ],
            [
             1,
             "#f0f921"
            ]
           ],
           "sequentialminus": [
            [
             0,
             "#0d0887"
            ],
            [
             0.1111111111111111,
             "#46039f"
            ],
            [
             0.2222222222222222,
             "#7201a8"
            ],
            [
             0.3333333333333333,
             "#9c179e"
            ],
            [
             0.4444444444444444,
             "#bd3786"
            ],
            [
             0.5555555555555556,
             "#d8576b"
            ],
            [
             0.6666666666666666,
             "#ed7953"
            ],
            [
             0.7777777777777778,
             "#fb9f3a"
            ],
            [
             0.8888888888888888,
             "#fdca26"
            ],
            [
             1,
             "#f0f921"
            ]
           ]
          },
          "colorway": [
           "#636efa",
           "#EF553B",
           "#00cc96",
           "#ab63fa",
           "#FFA15A",
           "#19d3f3",
           "#FF6692",
           "#B6E880",
           "#FF97FF",
           "#FECB52"
          ],
          "font": {
           "color": "#2a3f5f"
          },
          "geo": {
           "bgcolor": "white",
           "lakecolor": "white",
           "landcolor": "#E5ECF6",
           "showlakes": true,
           "showland": true,
           "subunitcolor": "white"
          },
          "hoverlabel": {
           "align": "left"
          },
          "hovermode": "closest",
          "mapbox": {
           "style": "light"
          },
          "paper_bgcolor": "white",
          "plot_bgcolor": "#E5ECF6",
          "polar": {
           "angularaxis": {
            "gridcolor": "white",
            "linecolor": "white",
            "ticks": ""
           },
           "bgcolor": "#E5ECF6",
           "radialaxis": {
            "gridcolor": "white",
            "linecolor": "white",
            "ticks": ""
           }
          },
          "scene": {
           "xaxis": {
            "backgroundcolor": "#E5ECF6",
            "gridcolor": "white",
            "gridwidth": 2,
            "linecolor": "white",
            "showbackground": true,
            "ticks": "",
            "zerolinecolor": "white"
           },
           "yaxis": {
            "backgroundcolor": "#E5ECF6",
            "gridcolor": "white",
            "gridwidth": 2,
            "linecolor": "white",
            "showbackground": true,
            "ticks": "",
            "zerolinecolor": "white"
           },
           "zaxis": {
            "backgroundcolor": "#E5ECF6",
            "gridcolor": "white",
            "gridwidth": 2,
            "linecolor": "white",
            "showbackground": true,
            "ticks": "",
            "zerolinecolor": "white"
           }
          },
          "shapedefaults": {
           "line": {
            "color": "#2a3f5f"
           }
          },
          "ternary": {
           "aaxis": {
            "gridcolor": "white",
            "linecolor": "white",
            "ticks": ""
           },
           "baxis": {
            "gridcolor": "white",
            "linecolor": "white",
            "ticks": ""
           },
           "bgcolor": "#E5ECF6",
           "caxis": {
            "gridcolor": "white",
            "linecolor": "white",
            "ticks": ""
           }
          },
          "title": {
           "x": 0.05
          },
          "xaxis": {
           "automargin": true,
           "gridcolor": "white",
           "linecolor": "white",
           "ticks": "",
           "title": {
            "standoff": 15
           },
           "zerolinecolor": "white",
           "zerolinewidth": 2
          },
          "yaxis": {
           "automargin": true,
           "gridcolor": "white",
           "linecolor": "white",
           "ticks": "",
           "title": {
            "standoff": 15
           },
           "zerolinecolor": "white",
           "zerolinewidth": 2
          }
         }
        },
        "xaxis": {
         "anchor": "y",
         "domain": [
          0,
          1
         ],
         "title": {
          "text": "x"
         }
        },
        "yaxis": {
         "anchor": "x",
         "domain": [
          0,
          1
         ],
         "title": {
          "text": "y"
         }
        }
       }
      }
     },
     "metadata": {},
     "output_type": "display_data"
    }
   ],
   "source": [
    "df = px.data.gapminder().query(\"country=='Canada'\")\n",
    "fig = px.line(df, x=\"year\", y=\"lifeExp\", title='Life expectancy in Canada')\n",
    "fig.show()"
   ]
  },
  {
   "cell_type": "code",
   "execution_count": null,
   "metadata": {},
   "outputs": [],
   "source": []
  },
  {
   "cell_type": "code",
   "execution_count": 2,
   "metadata": {},
   "outputs": [
    {
     "ename": "ImportError",
     "evalue": "Please install ipywidgets>=7.0.0 to use the FigureWidget class",
     "output_type": "error",
     "traceback": [
      "\u001b[1;31m---------------------------------------------------------------------------\u001b[0m",
      "\u001b[1;31mImportError\u001b[0m                               Traceback (most recent call last)",
      "\u001b[1;32mc:\\Users\\causb1a\\Documents\\GitHub\\developer-to-cloud-workshop\\playground.ipynb Cell 8\u001b[0m in \u001b[0;36m<cell line: 1>\u001b[1;34m()\u001b[0m\n\u001b[1;32m----> <a href='vscode-notebook-cell:/c%3A/Users/causb1a/Documents/GitHub/developer-to-cloud-workshop/playground.ipynb#X10sZmlsZQ%3D%3D?line=0'>1</a>\u001b[0m fig \u001b[39m=\u001b[39m go\u001b[39m.\u001b[39;49mFigureWidget()\n\u001b[0;32m      <a href='vscode-notebook-cell:/c%3A/Users/causb1a/Documents/GitHub/developer-to-cloud-workshop/playground.ipynb#X10sZmlsZQ%3D%3D?line=1'>2</a>\u001b[0m fig\u001b[39m.\u001b[39madd_scatter()\n\u001b[0;32m      <a href='vscode-notebook-cell:/c%3A/Users/causb1a/Documents/GitHub/developer-to-cloud-workshop/playground.ipynb#X10sZmlsZQ%3D%3D?line=2'>3</a>\u001b[0m fig\n",
      "File \u001b[1;32mc:\\Users\\causb1a\\AppData\\Local\\Programs\\Python\\Python39\\lib\\site-packages\\plotly\\missing_ipywidgets.py:13\u001b[0m, in \u001b[0;36mFigureWidget.__init__\u001b[1;34m(self, *args, **kwargs)\u001b[0m\n\u001b[0;32m     12\u001b[0m \u001b[39mdef\u001b[39;00m \u001b[39m__init__\u001b[39m(\u001b[39mself\u001b[39m, \u001b[39m*\u001b[39margs, \u001b[39m*\u001b[39m\u001b[39m*\u001b[39mkwargs):\n\u001b[1;32m---> 13\u001b[0m     \u001b[39mraise\u001b[39;00m \u001b[39mImportError\u001b[39;00m(\n\u001b[0;32m     14\u001b[0m         \u001b[39m\"\u001b[39m\u001b[39mPlease install ipywidgets>=7.0.0 to use the FigureWidget class\u001b[39m\u001b[39m\"\u001b[39m\n\u001b[0;32m     15\u001b[0m     )\n",
      "\u001b[1;31mImportError\u001b[0m: Please install ipywidgets>=7.0.0 to use the FigureWidget class"
     ]
    }
   ],
   "source": [
    "fig = go.FigureWidget()\n",
    "fig.add_scatter()\n",
    "fig"
   ]
  }
 ],
 "metadata": {
  "kernelspec": {
   "display_name": "Python 3.9.0 64-bit",
   "language": "python",
   "name": "python3"
  },
  "language_info": {
   "codemirror_mode": {
    "name": "ipython",
    "version": 3
   },
   "file_extension": ".py",
   "mimetype": "text/x-python",
   "name": "python",
   "nbconvert_exporter": "python",
   "pygments_lexer": "ipython3",
   "version": "3.9.0"
  },
  "orig_nbformat": 4,
  "vscode": {
   "interpreter": {
    "hash": "59cf38070c543be6de8f02b7402f9bd9143c6e1f2efad945353263750a86ee7f"
   }
  }
 },
 "nbformat": 4,
 "nbformat_minor": 2
}
